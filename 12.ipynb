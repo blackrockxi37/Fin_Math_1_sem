{
 "cells": [
  {
   "cell_type": "code",
   "execution_count": 2,
   "metadata": {},
   "outputs": [
    {
     "name": "stdout",
     "output_type": "stream",
     "text": [
      "221 Доходность портфеля минимального риска: 0.2\n"
     ]
    }
   ],
   "source": [
    "import numpy as np\n",
    "\n",
    "# Данные: ожидаемая доходность и риск каждого актива\n",
    "returns = np.array([0.1, 0.2, 0.6])  # ожидаемая доходность\n",
    "risks = np.array([0.4, 0.6, 0.8])  # риск\n",
    "\n",
    "# Рассмотрим возможные веса в портфеле\n",
    "weights = np.linspace(0, 1, 100)\n",
    "min_risk = float('inf')\n",
    "min_return = 0\n",
    "\n",
    "# Находим комбинацию весов с минимальным риском\n",
    "for w1 in weights:\n",
    "    for w2 in weights:\n",
    "        for w3 in weights:\n",
    "            if w1 + w2 + w3 == 1:\n",
    "                portfolio_risk = np.sqrt((w1 * risks[0])**2 + (w2 * risks[1])**2 + (w3 * risks[2])**2)\n",
    "                if portfolio_risk < min_risk:\n",
    "                    min_risk = portfolio_risk\n",
    "                    min_return = w1 * returns[0] + w2 * returns[1] + w3 * returns[2]\n",
    "\n",
    "print(\"221 Доходность портфеля минимального риска:\", round(min_return, 2))\n"
   ]
  },
  {
   "cell_type": "code",
   "execution_count": 3,
   "metadata": {},
   "outputs": [
    {
     "name": "stdout",
     "output_type": "stream",
     "text": [
      "222 Доходность портфеля при полной антикорреляции: 0.27\n"
     ]
    }
   ],
   "source": [
    "import numpy as np\n",
    "\n",
    "# Данные: ожидаемая доходность и риск каждого актива\n",
    "returns = np.array([0.2, 0.4])  # ожидаемая доходность\n",
    "risks = np.array([0.5, 0.7])  # риск\n",
    "\n",
    "# Вычисление весов для портфеля с нулевым риском\n",
    "w1 = (risks[1]**2) / ((risks[0]**2) + (risks[1]**2))\n",
    "w2 = 1 - w1\n",
    "\n",
    "# Вычисление доходности портфеля\n",
    "portfolio_return = w1 * returns[0] + w2 * returns[1]\n",
    "print(\"222 Доходность портфеля при полной антикорреляции:\", round(portfolio_return, 2))\n"
   ]
  },
  {
   "cell_type": "code",
   "execution_count": 4,
   "metadata": {},
   "outputs": [
    {
     "name": "stdout",
     "output_type": "stream",
     "text": [
      "223 Доходность портфеля: 0.68\n"
     ]
    }
   ],
   "source": [
    "import numpy as np\n",
    "\n",
    "# Данные: ожидаемая доходность и риск каждого актива\n",
    "returns = np.array([0.35, 0.75])  # ожидаемая доходность\n",
    "risks = np.array([0.2, 0.6])  # риск\n",
    "correlation_coefficient = 1/2  # коэффициент корреляции\n",
    "\n",
    "# Риск портфеля\n",
    "portfolio_risk = 0.55\n",
    "\n",
    "# Вычисление весов для портфеля\n",
    "w_B = (portfolio_risk**2 - risks[0]**2) / (risks[1]**2 - risks[0]**2)\n",
    "w_A = 1 - w_B\n",
    "\n",
    "# Вычисление доходности портфеля\n",
    "portfolio_return = w_A * returns[0] + w_B * returns[1]\n",
    "print(\"223 Доходность портфеля:\", round(portfolio_return, 2))\n"
   ]
  },
  {
   "cell_type": "code",
   "execution_count": 5,
   "metadata": {},
   "outputs": [
    {
     "name": "stdout",
     "output_type": "stream",
     "text": [
      "224 20.4\n"
     ]
    }
   ],
   "source": [
    "return_A = 12\n",
    "return_B = 26\n",
    "weight_A = 2\n",
    "weight_B = 3\n",
    "\n",
    "portfolio_return = (return_A * weight_A + return_B * weight_B) / (weight_A + weight_B)\n",
    "print('224', portfolio_return)"
   ]
  },
  {
   "cell_type": "code",
   "execution_count": 6,
   "metadata": {},
   "outputs": [
    {
     "name": "stdout",
     "output_type": "stream",
     "text": [
      "225 7.416666666666666\n"
     ]
    }
   ],
   "source": [
    "return_A = 7\n",
    "risk_A = 12\n",
    "return_B = 12\n",
    "risk_B = 24\n",
    "correlation_coefficient = 0.35\n",
    "\n",
    "# Для нахождения доходности портфеля минимального риска, используем формулу Марковица\n",
    "w_B = (risk_A**2 - correlation_coefficient * risk_A * risk_B) / ((risk_A**2) + (risk_B**2) - 2 * correlation_coefficient * risk_A * risk_B)\n",
    "w_A = 1 - w_B\n",
    "\n",
    "portfolio_return = w_A * return_A + w_B * return_B\n",
    "print('225',portfolio_return)\n"
   ]
  },
  {
   "cell_type": "code",
   "execution_count": 7,
   "metadata": {},
   "outputs": [
    {
     "name": "stdout",
     "output_type": "stream",
     "text": [
      "226 5.303955546989854\n"
     ]
    }
   ],
   "source": [
    "return_A = 18\n",
    "risk_A = 6\n",
    "return_B = 10\n",
    "risk_B = 5\n",
    "correlation_coefficient = -0.5\n",
    "\n",
    "# Для нахождения риска портфеля минимального риска, используем формулу Марковица\n",
    "portfolio_risk = np.sqrt(w_A**2 * risk_A**2 + w_B**2 * risk_B**2 + 2 * w_A * w_B * risk_A * risk_B * correlation_coefficient)\n",
    "print('226', portfolio_risk)"
   ]
  },
  {
   "cell_type": "code",
   "execution_count": 9,
   "metadata": {},
   "outputs": [
    {
     "ename": "SyntaxError",
     "evalue": "invalid decimal literal (3470988673.py, line 15)",
     "output_type": "error",
     "traceback": [
      "\u001b[1;36m  Cell \u001b[1;32mIn[9], line 15\u001b[1;36m\u001b[0m\n\u001b[1;33m    print(\"227 Ценовая доля десятого актива портфеля:\", tenth_share:.2f)\u001b[0m\n\u001b[1;37m                                                                     ^\u001b[0m\n\u001b[1;31mSyntaxError\u001b[0m\u001b[1;31m:\u001b[0m invalid decimal literal\n"
     ]
    }
   ],
   "source": [
    "from sympy import symbols, solve\n",
    "\n",
    "# Объявление символов\n",
    "a, d = symbols('a d')\n",
    "\n",
    "# Уравнения\n",
    "eq1 = a + 5*d - 0.11\n",
    "eq2 = 10*a + 45*d - 1\n",
    "\n",
    "# Решение системы уравнений\n",
    "solution = solve((eq1, eq2), (a, d))\n",
    "\n",
    "# Ценовая доля десятого актива\n",
    "tenth_share = solution[a] + 9 * solution[d]\n",
    "print(\"227 Ценовая доля десятого актива портфеля:\", tenth_share)\n"
   ]
  },
  {
   "cell_type": "code",
   "execution_count": 12,
   "metadata": {},
   "outputs": [
    {
     "name": "stdout",
     "output_type": "stream",
     "text": [
      "228 [(-62.0513612268990,), (62.0513612268990,)]\n"
     ]
    }
   ],
   "source": [
    "from sympy import symbols, solve\n",
    "\n",
    "# Данные: ожидаемая доходность и риск каждого актива\n",
    "return_A = 12\n",
    "risk_A = 14\n",
    "return_B = 18\n",
    "risk_B = 15\n",
    "correlation_coefficient = -0.5\n",
    "expected_return_portfolio = 14.2 / 100  # Преобразование процентов в десятичную дробь\n",
    "\n",
    "# Решаем систему уравнений для нахождения долей активов в портфеле\n",
    "w_B = symbols('w_B')\n",
    "solution = solve([w_B + (1 - w_B) - 1, w_B * return_B + (1 - w_B) * return_A - expected_return_portfolio], (w_B))\n",
    "weight_B = solution[w_B]\n",
    "\n",
    "# Рассчитываем риск портфеля\n",
    "portfolio_risk = symbols('portfolio_risk')\n",
    "solution_risk = solve([(weight_B * risk_B)**2 + ((1 - weight_B) * risk_A)**2 + 2 * weight_B * (1 - weight_B) * risk_B * risk_A * correlation_coefficient - portfolio_risk**2], (portfolio_risk))\n",
    "print('228', solution_risk)\n"
   ]
  },
  {
   "cell_type": "code",
   "execution_count": 14,
   "metadata": {},
   "outputs": [
    {
     "name": "stdout",
     "output_type": "stream",
     "text": [
      "229 Ценовая доля актива A: 0.6575393126762783\n"
     ]
    }
   ],
   "source": [
    "# Найдем r из уравнения ar^2 = 1/7\n",
    "r_value = (1/7)**(1/2)\n",
    "\n",
    "# Доля актива A\n",
    "share_A = 1 / (1 + r_value + r_value**2)\n",
    "\n",
    "print(\"229 Ценовая доля актива A:\", share_A)\n"
   ]
  },
  {
   "cell_type": "code",
   "execution_count": 17,
   "metadata": {},
   "outputs": [
    {
     "name": "stdout",
     "output_type": "stream",
     "text": [
      "230 Ценовая доля первой бумаги в портфеле: -5.42857142857143\n"
     ]
    }
   ],
   "source": [
    "from sympy import symbols, solve\n",
    "\n",
    "# Известные данные\n",
    "risk_portfolio = 10 / 100  # Преобразуем риск портфеля из процентов в десятичную дробь\n",
    "risk_1 = 0.01  # Предполагаемый риск первой бумаги (11%)\n",
    "risk_2 = 0.024  # Предполагаемый риск второй бумаги (18%)\n",
    "\n",
    "# Находим долю первой бумаги в портфеле\n",
    "w_1 = symbols('w_1')\n",
    "solution = solve((w_1**2 * risk_1**2 + (1 - w_1)**2 * risk_2**2 + 2 * w_1 * (1 - w_1) * risk_1 * risk_2 * 1) - risk_portfolio**2, (w_1))\n",
    "weight_1 = solution[0]\n",
    "\n",
    "print(\"230 Ценовая доля первой бумаги в портфеле:\", weight_1)\n"
   ]
  },
  {
   "cell_type": "code",
   "execution_count": 18,
   "metadata": {},
   "outputs": [
    {
     "name": "stdout",
     "output_type": "stream",
     "text": [
      "Ценовая доля актива B: 0.333333333333333\n"
     ]
    }
   ],
   "source": [
    "# Известные данные\n",
    "a = 0.05  # Доля актива A\n",
    "n = 3  # Количество активов\n",
    "\n",
    "# Решаем уравнение для нахождения разности арифметической прогрессии\n",
    "d = symbols('d')\n",
    "eq = a + (a + d) + (a + 2*d) - 1\n",
    "solution = solve(eq, d)\n",
    "\n",
    "# Вычисляем долю актива B\n",
    "share_B = a + solution[0]\n",
    "\n",
    "print(\"231 Ценовая доля актива B:\", share_B)\n"
   ]
  },
  {
   "cell_type": "code",
   "execution_count": 19,
   "metadata": {},
   "outputs": [
    {
     "name": "stdout",
     "output_type": "stream",
     "text": [
      "Риск портфеля: 0.0795652173913043\n"
     ]
    }
   ],
   "source": [
    "from sympy import symbols, solve, sqrt\n",
    "\n",
    "# Известные данные\n",
    "risk_A = 27 / 100\n",
    "return_A = 14 / 100\n",
    "risk_B = 46 / 100\n",
    "return_B = 37 / 100\n",
    "correlation_coefficient = -1\n",
    "expected_return_portfolio = 20 / 100  # Преобразуем доходность портфеля из процентов в десятичную дробь\n",
    "\n",
    "# Находим долю актива B\n",
    "w_B = symbols('w_B')\n",
    "solution = solve(w_B * return_B + (1 - w_B) * return_A - expected_return_portfolio, w_B)\n",
    "weight_B = solution[0]\n",
    "\n",
    "# Рассчитываем риск портфеля\n",
    "portfolio_risk = sqrt((weight_B * risk_B)**2 + ((1 - weight_B) * risk_A)**2 - 2 * weight_B * (1 - weight_B) * risk_A * risk_B)\n",
    "print(\"232 Риск портфеля:\", portfolio_risk)\n"
   ]
  },
  {
   "cell_type": "code",
   "execution_count": 22,
   "metadata": {},
   "outputs": [
    {
     "name": "stdout",
     "output_type": "stream",
     "text": [
      "233 Ценовая доля актива A: 0.377800000000000\n"
     ]
    }
   ],
   "source": [
    "# Решаем уравнение для нахождения ценовой доли актива C (x)\n",
    "x = symbols('x')\n",
    "solution_x = solve(x + (x + 0.0156) + 0.26 - 1, x)\n",
    "\n",
    "# Вычисляем ценовую долю актива A\n",
    "share_A = solution_x[0] + 0.0156\n",
    "\n",
    "print(\"233 Ценовая доля актива A:\", share_A)\n"
   ]
  },
  {
   "cell_type": "code",
   "execution_count": 23,
   "metadata": {},
   "outputs": [
    {
     "name": "stdout",
     "output_type": "stream",
     "text": [
      "234 Ценовая доля актива A: 0.377800000000000\n"
     ]
    }
   ],
   "source": [
    "# Решаем уравнение для нахождения ценовой доли актива C (x)\n",
    "x = symbols('x')\n",
    "solution_x = solve(x + (x + 0.0156) + 0.26 - 1, x)\n",
    "\n",
    "# Вычисляем ценовую долю актива A\n",
    "share_A = solution_x[0] + 0.0156\n",
    "\n",
    "print(\"234 Ценовая доля актива A:\", share_A)\n"
   ]
  },
  {
   "cell_type": "code",
   "execution_count": 24,
   "metadata": {},
   "outputs": [
    {
     "name": "stdout",
     "output_type": "stream",
     "text": [
      "235 Доходность портфеля минимального риска: 0.12\n"
     ]
    }
   ],
   "source": [
    "# Известные данные\n",
    "risk_A = 18 / 100  # Преобразуем риск актива A из процентов в десятичную дробь\n",
    "return_A = 12 / 100  # Преобразуем доходность актива A из процентов в десятичную дробь\n",
    "risk_B = 46 / 100  # Преобразуем риск актива B из процентов в десятичную дробь\n",
    "return_B = 20 / 100  # Преобразуем доходность актива B из процентов в десятичную дробь\n",
    "\n",
    "# Рассчитываем доходность портфеля минимального риска\n",
    "# Так как коэффициент корреляции между активами равен -1, риск минимальный\n",
    "# Поэтому минимальный риск будет у актива с наименьшим риском, а именно актив А\n",
    "# Соответственно, доходность портфеля минимального риска будет равна доходности актива А\n",
    "dpp_minimal_risk = return_A\n",
    "\n",
    "print(\"235 Доходность портфеля минимального риска:\", dpp_minimal_risk)\n"
   ]
  },
  {
   "cell_type": "code",
   "execution_count": 25,
   "metadata": {},
   "outputs": [
    {
     "name": "stdout",
     "output_type": "stream",
     "text": [
      "236 Ожидаемая доходность портфеля: 0.11666666666666665\n"
     ]
    }
   ],
   "source": [
    "# Известные данные\n",
    "return_A = 0.08\n",
    "return_B = 0.12\n",
    "return_C = 0.15\n",
    "\n",
    "# Вычисляем ожидаемую доходность портфеля\n",
    "expected_return_portfolio = (return_A + return_B + return_C) / 3\n",
    "\n",
    "print(\"236 Ожидаемая доходность портфеля:\", expected_return_portfolio)\n"
   ]
  },
  {
   "cell_type": "code",
   "execution_count": 26,
   "metadata": {},
   "outputs": [
    {
     "name": "stdout",
     "output_type": "stream",
     "text": [
      "237 Ожидаемая доходность портфеля: 0.25\n"
     ]
    }
   ],
   "source": [
    "# Известные данные\n",
    "return_A = 0.17  # Доходность актива A\n",
    "return_B = 0.27  # Доходность актива B\n",
    "\n",
    "# Ценовые доли активов\n",
    "w_A = 1 / 5\n",
    "w_B = 4 / 5\n",
    "\n",
    "# Вычисляем ожидаемую доходность портфеля\n",
    "expected_return_portfolio = w_A * return_A + w_B * return_B\n",
    "\n",
    "print(\"237 Ожидаемая доходность портфеля:\", expected_return_portfolio)\n"
   ]
  },
  {
   "cell_type": "code",
   "execution_count": 27,
   "metadata": {},
   "outputs": [
    {
     "name": "stdout",
     "output_type": "stream",
     "text": [
      "238 Доходность портфеля: 0.0002115027829313544\n"
     ]
    }
   ],
   "source": [
    "# Данные об акциях\n",
    "stocks = {\n",
    "    'A': {'quantity': 200, 'initial_price': 70, 'final_price': 100},\n",
    "    'B': {'quantity': 350, 'initial_price': 90, 'final_price': 60},\n",
    "    'C': {'quantity': 150, 'initial_price': 180, 'final_price': 250},\n",
    "    'D': {'quantity': 400, 'initial_price': 300, 'final_price': 310}\n",
    "}\n",
    "\n",
    "# Вычисляем доходность каждой акции\n",
    "returns = {ticker: (stock['final_price'] - stock['initial_price']) / stock['initial_price'] for ticker, stock in stocks.items()}\n",
    "\n",
    "# Считаем сумму всех доходностей акций\n",
    "total_returns = sum(returns[ticker] * stock['quantity'] for ticker, stock in stocks.items())\n",
    "\n",
    "# Считаем сумму всех начальных цен акций\n",
    "total_initial_prices = sum(stock['initial_price'] * stock['quantity'] for stock in stocks.values())\n",
    "\n",
    "# Вычисляем доходность портфеля\n",
    "portfolio_return = total_returns / total_initial_prices\n",
    "\n",
    "print(\"238 Доходность портфеля:\", portfolio_return)\n"
   ]
  },
  {
   "cell_type": "code",
   "execution_count": 28,
   "metadata": {},
   "outputs": [
    {
     "name": "stdout",
     "output_type": "stream",
     "text": [
      "239 Доходность портфеля: 52.32 %\n"
     ]
    }
   ],
   "source": [
    "# Известные данные\n",
    "return_A = 0.32  # Доходность актива A\n",
    "return_B = 0.28  # Доходность актива B\n",
    "\n",
    "# Ценовые доли активов\n",
    "w_B = 1  # Пусть ценовая доля B будет 1 (это позволит упростить вычисления)\n",
    "w_A = 0.76 * w_B  # Ценовая доля A на 24% меньше ценовой доли B\n",
    "\n",
    "# Вычисляем доходность портфеля\n",
    "portfolio_return = w_A * return_A + w_B * return_B\n",
    "\n",
    "print(\"239 Доходность портфеля:\", portfolio_return * 100, \"%\")\n"
   ]
  },
  {
   "cell_type": "code",
   "execution_count": 29,
   "metadata": {},
   "outputs": [
    {
     "name": "stdout",
     "output_type": "stream",
     "text": [
      "240 Риск B: 0.515572387888236\n"
     ]
    }
   ],
   "source": [
    "import math\n",
    "\n",
    "# Известные данные\n",
    "w_A = 0.75\n",
    "risk_A = 0.33\n",
    "w_B = 0.48\n",
    "risk_portfolio = 0.35\n",
    "\n",
    "# Расчет риска портфеля\n",
    "risk_B = math.sqrt((risk_portfolio**2 - w_A**2 * risk_A**2) / w_B**2)\n",
    "print(\"240 Риск B:\", risk_B)\n"
   ]
  }
 ],
 "metadata": {
  "kernelspec": {
   "display_name": "base",
   "language": "python",
   "name": "python3"
  },
  "language_info": {
   "codemirror_mode": {
    "name": "ipython",
    "version": 3
   },
   "file_extension": ".py",
   "mimetype": "text/x-python",
   "name": "python",
   "nbconvert_exporter": "python",
   "pygments_lexer": "ipython3",
   "version": "3.11.5"
  }
 },
 "nbformat": 4,
 "nbformat_minor": 2
}
