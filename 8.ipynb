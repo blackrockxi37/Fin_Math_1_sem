{
 "cells": [
  {
   "cell_type": "code",
   "execution_count": 1,
   "metadata": {},
   "outputs": [],
   "source": [
    "import numpy as np"
   ]
  },
  {
   "cell_type": "markdown",
   "metadata": {},
   "source": [
    "I: Задание 141   ТЗ 8-1\n",
    "S: Резервный фонд создается в течение 18 лет. На поступающие в него средства начисляются сложные проценты по ставке 5% годовых. В течение первых 6 лет в конце каждого года в фонд вносили по 18000 у.е., в течение последующих 4 лет — по 20000 у.е. в конце года, а в последние 8 лет — по 22000 у.е. в конце года. Сумма фонда через 18 лет, выраженная в у.е. с точностью до 0,01, равна …\\\n",
    "\n",
    "FV = Σ (CF × (1 + r)^n)\n"
   ]
  },
  {
   "cell_type": "code",
   "execution_count": 2,
   "metadata": {},
   "outputs": [
    {
     "name": "stdout",
     "output_type": "stream",
     "text": [
      "Future Value: 580152.85\n"
     ]
    }
   ],
   "source": [
    "fv_period1 = 18000 * ((1 + 0.05)**6 - 1) / 0.05\n",
    "fv_period2 = 20000 * ((1 + 0.05)**10 - (1 + 0.05)**6) / 0.05\n",
    "fv_period3 = 22000 * ((1 + 0.05)**18 - (1 + 0.05)**10) / 0.05\n",
    "\n",
    "fv_total = fv_period1 + fv_period2 + fv_period3\n",
    "print(f\"Future Value: {fv_total:.2f}\")"
   ]
  },
  {
   "cell_type": "markdown",
   "metadata": {},
   "source": [
    "I: Задание 142   ТЗ 8-2\n",
    "S: Наименьшее число лет ренты постнумерандо с годовым платежом 60000 руб., при котором ее наращенная величина превзойдёт величину 900000 руб. при процентной ставке 10% годовых равно …\n"
   ]
  },
  {
   "cell_type": "code",
   "execution_count": 4,
   "metadata": {},
   "outputs": [
    {
     "name": "stdout",
     "output_type": "stream",
     "text": [
      "Наименьше кол-во лет это: 10\n"
     ]
    }
   ],
   "source": [
    "def future_value(pmt, r, n):\n",
    "    return pmt * (((1 + r)**n - 1) / r)\n",
    "\n",
    "pmt = 60000\n",
    "r = 0.10\n",
    "\n",
    "n = 1\n",
    "while True:\n",
    "    fv = future_value(pmt, r, n)\n",
    "    if fv > 900000:\n",
    "        break\n",
    "    n += 1\n",
    "\n",
    "print(f\"Наименьше кол-во лет это: {n}\")"
   ]
  },
  {
   "cell_type": "markdown",
   "metadata": {},
   "source": [
    "I: Задание 143   ТЗ 8-3\n",
    "S: Срок (выраженный в годах с точностью до 0,01) обыкновенной ренты постнумерандо при известных значениях наращенной суммы  S=20000, процентной ставки i=12% и ежегодного рентного платежа R=1000 равен …\n"
   ]
  },
  {
   "cell_type": "code",
   "execution_count": 5,
   "metadata": {},
   "outputs": [
    {
     "name": "stdout",
     "output_type": "stream",
     "text": [
      "The number of years is 11 years.\n"
     ]
    }
   ],
   "source": [
    "def future_value(pmt, r, n):\n",
    "    return pmt * (((1 + r)**n - 1) / r)\n",
    "pmt = 1000\n",
    "r = 0.12\n",
    "n = 1\n",
    "while True:\n",
    "    fv = future_value(pmt, r, n)\n",
    "    if fv >= 20000:\n",
    "        break\n",
    "    n += 1\n",
    "print(f\"The number of years is {n} years.\")"
   ]
  },
  {
   "cell_type": "markdown",
   "metadata": {},
   "source": [
    "I: Задание 144   ТЗ 8-4\n",
    "S: Рентный платеж   ренты постнумерандо, если известны приведенная величина A=50000, процентная ставка i=9% и срок  n=10 с точностью до 0,1 равен …\n"
   ]
  },
  {
   "cell_type": "code",
   "execution_count": 6,
   "metadata": {},
   "outputs": [
    {
     "name": "stdout",
     "output_type": "stream",
     "text": [
      "Rent payment: 7791.0\n"
     ]
    }
   ],
   "source": [
    "A = 50000\n",
    "r = 0.09\n",
    "n = 10\n",
    "\n",
    "pmt = A * (r / (1 - (1 + r)**(-n)))\n",
    "print(f\"Rent payment: {pmt:.1f}\")"
   ]
  },
  {
   "cell_type": "markdown",
   "metadata": {},
   "source": [
    "I: Задание 145   ТЗ 8-5\n",
    "S: Формируется фонд на основе ежегодных отчислений в сумме 10000 у.е. с начислением на них сложных процентов по ставке 12%.  Величина фонда через 10 лет с точностью до 0,01 у.е. равна…\n"
   ]
  },
  {
   "cell_type": "code",
   "execution_count": 7,
   "metadata": {},
   "outputs": [
    {
     "name": "stdout",
     "output_type": "stream",
     "text": [
      "Future value: 175487.35 u.e.\n"
     ]
    }
   ],
   "source": [
    "pmt = 10000\n",
    "r = 0.12\n",
    "n = 10\n",
    "\n",
    "fv = pmt * (((1 + r)**n - 1) / r)\n",
    "print(f\"Future value: {fv:.2f} u.e.\")"
   ]
  },
  {
   "cell_type": "markdown",
   "metadata": {},
   "source": [
    "I: Задание 146   ТЗ 8-6\n",
    "S: Размер вклада, обеспечивающего получение в конце каждого года 20000 руб. бесконечно долго при сложной ставке 12% годовых с точностью до 0,01 руб. равен …\n"
   ]
  },
  {
   "cell_type": "code",
   "execution_count": 8,
   "metadata": {},
   "outputs": [
    {
     "name": "stdout",
     "output_type": "stream",
     "text": [
      "Present value: 166666.67 rubles\n"
     ]
    }
   ],
   "source": [
    "pmt = 20000\n",
    "r = 0.12\n",
    "\n",
    "pv = pmt / r\n",
    "print(f\"Present value: {pv:.2f} rubles\")"
   ]
  },
  {
   "cell_type": "markdown",
   "metadata": {},
   "source": [
    "I: Задание 147   ТЗ 8-7\n",
    "S: Размер вклада, который обеспечивает ежегодное (в конце года) получение денежной суммы в размере 20000 у.е. в течение 19 лет при процентной ставке  10% с точностью до 0,1 равен …\n"
   ]
  },
  {
   "cell_type": "code",
   "execution_count": 9,
   "metadata": {},
   "outputs": [
    {
     "name": "stdout",
     "output_type": "stream",
     "text": [
      "Present value: 167298.4 u.e.\n"
     ]
    }
   ],
   "source": [
    "pmt = 20000\n",
    "r = 0.10\n",
    "n = 19\n",
    "\n",
    "pv = pmt * ((1 - (1 + r)**(-n)) / r)\n",
    "print(f\"Present value: {pv:.1f} u.e.\")"
   ]
  },
  {
   "cell_type": "markdown",
   "metadata": {},
   "source": [
    "I: Задание 148   ТЗ 8-8\n",
    "S: Приведенная стоимость бессрочной (вечной) ренты при уменьшении процентной ставки на 4% увеличится с точностью до 0,0001 в следующее число раз …\n"
   ]
  },
  {
   "cell_type": "code",
   "execution_count": 10,
   "metadata": {},
   "outputs": [
    {
     "name": "stdout",
     "output_type": "stream",
     "text": [
      "Increase: 1.5000\n"
     ]
    }
   ],
   "source": [
    "r1 = 0.12\n",
    "r2 = 0.08\n",
    "\n",
    "increase = (1 / r2) / (1 / r1)\n",
    "print(f\"Increase: {increase:.4f}\")"
   ]
  },
  {
   "cell_type": "markdown",
   "metadata": {},
   "source": [
    "I: Задание 149   ТЗ 8-9\n",
    "S: Фонд создается в течение 12 лет с ежегодными взносами 100000 у.е. в конце года. На поступившие средства начисляется 4% годовых, если сумма не превышает 250000 у.е. и 4,5% годовых, если сумма превышает 250000 у.е. Величина фонда через 12 лет с точностью до 0,01 будет равна …\n"
   ]
  },
  {
   "cell_type": "code",
   "execution_count": 11,
   "metadata": {},
   "outputs": [
    {
     "name": "stdout",
     "output_type": "stream",
     "text": [
      "Future value: 5790284.47 u.e.\n"
     ]
    }
   ],
   "source": [
    "pmt = 100000\n",
    "r1 = 0.04\n",
    "r2 = 0.045\n",
    "n1 = 6\n",
    "n2 = 6\n",
    "\n",
    "fv1 = pmt * (((1 + r1)**n1 - 1) / r1)\n",
    "fv2 = (fv1 + pmt) * (((1 + r2)**n2 - 1) / r2)\n",
    "\n",
    "fv_total = fv1 + fv2\n",
    "print(f\"Future value: {fv_total:.2f} u.e.\")"
   ]
  },
  {
   "cell_type": "markdown",
   "metadata": {},
   "source": [
    "I: Задание 150   ТЗ 8-10\n",
    "S: Сумма, которую нужно вносить ежегодно на счет в банке под 6% годовых, чтобы через 10 лет накопить 900000 у.е. с точностью до 0,01 у.е. равна …\n"
   ]
  },
  {
   "cell_type": "code",
   "execution_count": 12,
   "metadata": {},
   "outputs": [
    {
     "name": "stdout",
     "output_type": "stream",
     "text": [
      "Annual payment: 122281.16 u.e.\n"
     ]
    }
   ],
   "source": [
    "pv = 900000\n",
    "r = 0.06\n",
    "n = 10\n",
    "\n",
    "pmt = pv * (r / (1 - (1 + r)**(-n)))\n",
    "print(f\"Annual payment: {pmt:.2f} u.e.\")"
   ]
  },
  {
   "cell_type": "markdown",
   "metadata": {},
   "source": [
    "I: Задание 151   ТЗ 8-11\n",
    "S: На счет в банке помещено 160000 руб. За первые 5 лет и 7 месяцев процентная ставка равнялась 10%, а в следующие 7 лет и 3 месяца — 8%. Наращенная величина вклада через 12 лет 10 месяцев при полугодовой капитализации с точностью до 0,01 руб. равна …\n"
   ]
  },
  {
   "cell_type": "code",
   "execution_count": 13,
   "metadata": {},
   "outputs": [
    {
     "name": "stdout",
     "output_type": "stream",
     "text": [
      "Future value: 473880.70 rub.\n"
     ]
    }
   ],
   "source": [
    "pv = 160000\n",
    "r1 = 0.10 / 2\n",
    "n1 = 11\n",
    "r2 = 0.08 / 2\n",
    "n2 = 14\n",
    "\n",
    "fv1 = pv * (1 + r1)**n1\n",
    "fv2 = fv1 * (1 + r2)**n2\n",
    "print(f\"Future value: {fv2:.2f} rub.\")"
   ]
  },
  {
   "cell_type": "markdown",
   "metadata": {},
   "source": [
    "I: Задание 152   ТЗ 8-12\n",
    "S: На счет в банке помещено 350000 руб. под 11% годовых, а через 5 лет сняли 200000 руб. Наращенная величина вклада через 12 лет при полугодовой капитализации с точностью до 0,01 руб. равна …\n"
   ]
  },
  {
   "cell_type": "code",
   "execution_count": 14,
   "metadata": {},
   "outputs": [
    {
     "name": "stdout",
     "output_type": "stream",
     "text": [
      "Future value: 492867.08 rub.\n"
     ]
    }
   ],
   "source": [
    "pv = 350000\n",
    "r = 0.11 / 2\n",
    "n1 = 10\n",
    "withdrawal = 200000\n",
    "n2 = 4\n",
    "\n",
    "fv1 = pv * (1 + r)**n1\n",
    "fv2 = (fv1 - withdrawal) * (1 + r)**n2\n",
    "print(f\"Future value: {fv2:.2f} rub.\")"
   ]
  },
  {
   "cell_type": "markdown",
   "metadata": {},
   "source": [
    "I: Задание 153   ТЗ 8-13\n",
    "S: Контракт предусматривает следующий порядок начисления процентов: первый год — 10%, в каждом последующем полугодии ставка сложных процентов повышается на 1%. Множитель наращения за 2,5 года с точностью до 0,00001 равен …\n"
   ]
  },
  {
   "cell_type": "code",
   "execution_count": 15,
   "metadata": {},
   "outputs": [
    {
     "name": "stdout",
     "output_type": "stream",
     "text": [
      "Accumulation factor: 2.190070\n"
     ]
    }
   ],
   "source": [
    "r1 = 0.10\n",
    "r2 = 0.11\n",
    "r3 = 0.12\n",
    "r4 = 0.13\n",
    "r5 = 0.14\n",
    "\n",
    "fv = (1 + r1) * (1 + r2)**2 * (1 + r3)**2 * (1 + r4) * (1 + r5)\n",
    "print(f\"Accumulation factor: {fv:.6f}\")"
   ]
  },
  {
   "cell_type": "markdown",
   "metadata": {},
   "source": [
    "I: Задание 154   ТЗ 8-14\n",
    "S: Банк объявил следующие условия выдачи ссуды на один год: за первый квартал ссудный процент годовых 30%; за второй квартал — 35%; за третий — 37%; за четвертый квартал — 40%. Сумма (в руб.) к возврату в банк, если ссуда составляет 300000 руб., равна …\n"
   ]
  },
  {
   "cell_type": "code",
   "execution_count": 16,
   "metadata": {},
   "outputs": [
    {
     "name": "stdout",
     "output_type": "stream",
     "text": [
      "Amount to return: 421476.26 rub.\n"
     ]
    }
   ],
   "source": [
    "loan = 300000\n",
    "r1 = 0.30 / 4\n",
    "r2 = 0.35 / 4\n",
    "r3 = 0.37 / 4\n",
    "r4 = 0.40 / 4\n",
    "\n",
    "fv = loan * (1 + r1) * (1 + r2) * (1 + r3) * (1 + r4)\n",
    "print(f\"Amount to return: {fv:.2f} rub.\")"
   ]
  },
  {
   "cell_type": "markdown",
   "metadata": {},
   "source": [
    "I: Задание 155   ТЗ 8-15\n",
    "S: Банк учитывает вексель по номинальной учетной ставке 12% с ежемесячным начислением процентов. Сложная учетная ставка, при которой доход банка не изменился, выраженная в % с точностью до 0,01,  равна …\n"
   ]
  },
  {
   "cell_type": "code",
   "execution_count": 17,
   "metadata": {},
   "outputs": [
    {
     "name": "stdout",
     "output_type": "stream",
     "text": [
      "Effective rate: 12.68%\n"
     ]
    }
   ],
   "source": [
    "nominal_rate = 0.12\n",
    "months = 12\n",
    "\n",
    "effective_rate = (1 + nominal_rate / months)**months - 1\n",
    "print(f\"Effective rate: {effective_rate * 100:.2f}%\")"
   ]
  },
  {
   "cell_type": "markdown",
   "metadata": {},
   "source": [
    "I: Задание 156   ТЗ 8-16\n",
    "S: На счет в банке кладется сумма в размере 120000 руб. под 11% годовых по схеме простых процентов. Вклад изымается через 4 года и кладется на новый счет на 2 года по той же схеме под 6%. Размер вклада, выраженный в рублях через 6 лет равен …\n"
   ]
  },
  {
   "cell_type": "code",
   "execution_count": 18,
   "metadata": {},
   "outputs": [
    {
     "name": "stdout",
     "output_type": "stream",
     "text": [
      "Final amount: 193536.00 rub.\n"
     ]
    }
   ],
   "source": [
    "initial_deposit = 120000\n",
    "r1 = 0.11\n",
    "t1 = 4\n",
    "r2 = 0.06\n",
    "t2 = 2\n",
    "\n",
    "interest1 = initial_deposit * r1 * t1\n",
    "interest2 = (initial_deposit + interest1) * r2 * t2\n",
    "\n",
    "final_amount = initial_deposit + interest1 + interest2\n",
    "print(f\"Final amount: {final_amount:.2f} rub.\")"
   ]
  },
  {
   "cell_type": "markdown",
   "metadata": {},
   "source": [
    "I: Задание 157   ТЗ 8-17\n",
    "S: Заменить ренту с параметрами R_1=3000;  n=5;  i=10%, рентой с параметрами  R_2=2000;  i=10%. Срок заменяющей ренты с точностью до 0,1 года равен…\n"
   ]
  },
  {
   "cell_type": "code",
   "execution_count": 19,
   "metadata": {},
   "outputs": [
    {
     "name": "stdout",
     "output_type": "stream",
     "text": [
      "New term: 4.3 years\n"
     ]
    }
   ],
   "source": [
    "r1 = 3000\n",
    "n = 5\n",
    "i = 0.10\n",
    "r2 = 2000\n",
    "\n",
    "n_new = np.log(r1 / r2) / np.log(1 + i)\n",
    "print(f\"New term: {n_new:.1f} years\")"
   ]
  },
  {
   "cell_type": "markdown",
   "metadata": {},
   "source": [
    "I: Задание 158   ТЗ 8-18\n",
    "S: Замените годовую ренту параметрами R_1=20000; n_1=2;i =10%, на p-срочную (месячную) ренту c параметрами n_2=4;  i=10%. Рентный платёж за год заменяющей ренты с точностью до 0,1 равен…\n"
   ]
  },
  {
   "cell_type": "code",
   "execution_count": 20,
   "metadata": {},
   "outputs": [
    {
     "name": "stdout",
     "output_type": "stream",
     "text": [
      "Monthly rent: 49452.9\n"
     ]
    }
   ],
   "source": [
    "r1 = 20000\n",
    "n1 = 2\n",
    "i = 0.10\n",
    "n2 = 4\n",
    "\n",
    "r2 = r1 * (1 + i)**n1 / ((1 + i/12)**(n2*12) - 1)\n",
    "print(f\"Monthly rent: {r2:.1f}\")"
   ]
  },
  {
   "cell_type": "markdown",
   "metadata": {},
   "source": [
    "I: Задание 159   ТЗ 8-19\n",
    "S: Замените две ренты постнумерандо с параметрами R_1=20000;  n_1=4; i_1=10%  и R_2=25000;  n_2=6; i_2=12% разовым платежом в момент времени   n=7 и процентной ставкой  i=15%. Этот платёж заменяющей ренты с точностью до 0,01 равен …\n"
   ]
  },
  {
   "cell_type": "code",
   "execution_count": 21,
   "metadata": {},
   "outputs": [
    {
     "name": "stdout",
     "output_type": "stream",
     "text": [
      "Replacement payment: 111164.48\n"
     ]
    }
   ],
   "source": [
    "r1 = 20000\n",
    "n1 = 4\n",
    "i1 = 0.10\n",
    "r2 = 25000\n",
    "n2 = 6\n",
    "i2 = 0.12\n",
    "n = 7\n",
    "i = 0.15\n",
    "\n",
    "fv1 = r1 * (((1 + i1)**n1 - 1) / i1)\n",
    "fv2 = r2 * (((1 + i2)**n2 - 1) / i2)\n",
    "fv_total = fv1 + fv2\n",
    "\n",
    "payment = fv_total / (1 + i)**n\n",
    "print(f\"Replacement payment: {payment:.2f}\")"
   ]
  },
  {
   "cell_type": "markdown",
   "metadata": {},
   "source": [
    "I: Задание 160   ТЗ 8-20\n",
    "S: Консолидируйте три ренты постнумерандо с параметрами \n",
    "R_1=10000;  n_1=3;  i_1=10% ; R_2=15000;  n_2=5;  i_2=10%; R_3=20000;  n_3=7;  i_3=10%;  4-летней рентой постнумерандо с  i=15%. Рентный платёж заменяющей ренты с точностью до 0,01 равен …\n"
   ]
  },
  {
   "cell_type": "code",
   "execution_count": 23,
   "metadata": {},
   "outputs": [
    {
     "name": "stdout",
     "output_type": "stream",
     "text": [
      "Рентный платёж заменяющей ренты: 4233.38\n"
     ]
    }
   ],
   "source": [
    "R_1 = 10000\n",
    "n_1 = 3\n",
    "i_1 = 0.10\n",
    "\n",
    "R_2 = 15000\n",
    "n_2 = 5\n",
    "i_2 = 0.10\n",
    "\n",
    "R_3 = 20000\n",
    "n_3 = 7\n",
    "i_3 = 0.10\n",
    "\n",
    "R_1_payment = R_1 * (i_1 / (1 - (1 + i_1)**(-n_1)))\n",
    "R_2_payment = R_2 * (i_2 / (1 - (1 + i_2)**(-n_2)))\n",
    "R_3_payment = R_3 * (i_3 / (1 - (1 + i_3)**(-n_3)))\n",
    "\n",
    "# Считаем сумму рентных платежей\n",
    "total_payment = R_1_payment + R_2_payment + R_3_payment\n",
    "\n",
    "# Параметры заменяющей ренты\n",
    "i_new = 0.15\n",
    "n_new = 4\n",
    "\n",
    "# Считаем рентный платёж заменяющей ренты\n",
    "new_payment = total_payment * (i_new / (1 - (1 + i_new)**(-n_new)))\n",
    "\n",
    "print(\"Рентный платёж заменяющей ренты:\", round(new_payment, 2))"
   ]
  }
 ],
 "metadata": {
  "kernelspec": {
   "display_name": "base",
   "language": "python",
   "name": "python3"
  },
  "language_info": {
   "codemirror_mode": {
    "name": "ipython",
    "version": 3
   },
   "file_extension": ".py",
   "mimetype": "text/x-python",
   "name": "python",
   "nbconvert_exporter": "python",
   "pygments_lexer": "ipython3",
   "version": "3.11.5"
  }
 },
 "nbformat": 4,
 "nbformat_minor": 2
}
