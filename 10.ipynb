{
 "cells": [
  {
   "cell_type": "code",
   "execution_count": 6,
   "metadata": {},
   "outputs": [],
   "source": [
    "import numpy as np\n",
    "import numpy_financial as npf\n",
    "\n",
    "def calculate_bond_price(nominal_price, coupon_rate, years_to_maturity, discount_rate):\n",
    "    coupon_payment = nominal_price * coupon_rate\n",
    "    cash_flows = np.full(years_to_maturity, coupon_payment)\n",
    "    cash_flows[-1] += nominal_price\n",
    "    return npf.npv(discount_rate, cash_flows)\n"
   ]
  },
  {
   "cell_type": "markdown",
   "metadata": {},
   "source": [
    "181) Номинальная цена 11-ти процентной облигации 1000 руб. Текущая стоимость облигации за два года до погашения при процентной ставке 8% с точностью до 0.01 руб. равна…"
   ]
  },
  {
   "cell_type": "code",
   "execution_count": 7,
   "metadata": {},
   "outputs": [
    {
     "name": "stdout",
     "output_type": "stream",
     "text": [
      "Текущая стоимость облигации: 1053.50 руб.\n"
     ]
    }
   ],
   "source": [
    "# Задание 181 ТЗ 10-1\n",
    "nominal_price = 1000\n",
    "coupon_rate = 0.11\n",
    "years_to_maturity = 2\n",
    "discount_rate = 0.08\n",
    "coupon_payment = nominal_price * coupon_rate\n",
    "PV_coupons = sum([coupon_payment / (1 + discount_rate)**t for t in range(1, years_to_maturity + 1)])\n",
    "PV_nominal = nominal_price / (1 + discount_rate)**years_to_maturity\n",
    "PV_total = PV_coupons + PV_nominal\n",
    "print(f\"Текущая стоимость облигации: {PV_total:.2f} руб.\")"
   ]
  },
  {
   "cell_type": "markdown",
   "metadata": {},
   "source": [
    "182) Номинальная цена 10-ти процентной облигации 1000 руб. Текущая стоимость облигации за два года до погашения при процентной ставке 12% с точностью до 0.01 руб. равна…"
   ]
  },
  {
   "cell_type": "code",
   "execution_count": 8,
   "metadata": {},
   "outputs": [
    {
     "name": "stdout",
     "output_type": "stream",
     "text": [
      "Текущая стоимость облигации: 966.20 руб.\n"
     ]
    }
   ],
   "source": [
    "nominal_price = 1000\n",
    "coupon_rate = 0.10\n",
    "years_to_maturity = 2\n",
    "discount_rate = 0.12\n",
    "coupon_payment = nominal_price * coupon_rate\n",
    "PV_coupons = sum([coupon_payment / (1 + discount_rate)**t for t in range(1, years_to_maturity + 1)])\n",
    "PV_nominal = nominal_price / (1 + discount_rate)**years_to_maturity\n",
    "PV_total = PV_coupons + PV_nominal\n",
    "print(f\"Текущая стоимость облигации: {PV_total:.2f} руб.\")\n"
   ]
  },
  {
   "cell_type": "markdown",
   "metadata": {},
   "source": [
    "183) Номинальная цена 10-ти процентной облигации 1000 руб. Текущая стоимость облигации (в руб.) за два года до погашения при процентной ставке 10% равна…\n",
    "\n"
   ]
  },
  {
   "cell_type": "code",
   "execution_count": 9,
   "metadata": {},
   "outputs": [
    {
     "name": "stdout",
     "output_type": "stream",
     "text": [
      "Задание 183: 1100.00 руб.\n"
     ]
    }
   ],
   "source": [
    "# Задание 183 ТЗ 10-3\n",
    "nominal_price = 1000\n",
    "coupon_rate = 0.10\n",
    "years_to_maturity = 2\n",
    "discount_rate = 0.10\n",
    "price_183 = calculate_bond_price(nominal_price, coupon_rate, years_to_maturity, discount_rate)\n",
    "print(f\"Задание 183: {price_183:.2f} руб.\")"
   ]
  },
  {
   "cell_type": "code",
   "execution_count": 10,
   "metadata": {},
   "outputs": [
    {
     "name": "stdout",
     "output_type": "stream",
     "text": [
      "Задание 184: 1100.00 руб.\n"
     ]
    }
   ],
   "source": [
    "# Задание 184 ТЗ 10-4\n",
    "nominal_price = 1000\n",
    "coupon_rate = 0.10\n",
    "years_to_maturity = 1\n",
    "discount_rate = 0.10\n",
    "price_184 = calculate_bond_price(nominal_price, coupon_rate, years_to_maturity, discount_rate)\n",
    "print(f\"Задание 184: {price_184:.2f} руб.\")"
   ]
  },
  {
   "cell_type": "code",
   "execution_count": 11,
   "metadata": {},
   "outputs": [
    {
     "name": "stdout",
     "output_type": "stream",
     "text": [
      "Задание 185: 1118.52 руб.\n"
     ]
    }
   ],
   "source": [
    "# Задание 185 ТЗ 10-5\n",
    "nominal_price = 1000\n",
    "coupon_rate = 0.10\n",
    "years_to_maturity = 2\n",
    "discount_rate = 0.08\n",
    "price_185 = calculate_bond_price(nominal_price, coupon_rate, years_to_maturity, discount_rate)\n",
    "print(f\"Задание 185: {price_185:.2f} руб.\")"
   ]
  },
  {
   "cell_type": "code",
   "execution_count": 12,
   "metadata": {},
   "outputs": [
    {
     "name": "stdout",
     "output_type": "stream",
     "text": [
      "Задание 186: 1080.00 руб.\n"
     ]
    }
   ],
   "source": [
    "# Задание 186 ТЗ 10-6\n",
    "nominal_price = 1000\n",
    "coupon_rate = 0.08\n",
    "years_to_maturity = 1\n",
    "discount_rate = 0.06\n",
    "price_186 = calculate_bond_price(nominal_price, coupon_rate, years_to_maturity, discount_rate)\n",
    "print(f\"Задание 186: {price_186:.2f} руб.\")"
   ]
  },
  {
   "cell_type": "code",
   "execution_count": 13,
   "metadata": {},
   "outputs": [
    {
     "name": "stdout",
     "output_type": "stream",
     "text": [
      "Задание 187: 1137.74 руб.\n"
     ]
    }
   ],
   "source": [
    "# Задание 187 ТЗ 10-7\n",
    "nominal_price = 1000\n",
    "coupon_rate = 0.10\n",
    "years_to_maturity = 2\n",
    "discount_rate = 0.06\n",
    "price_187 = calculate_bond_price(nominal_price, coupon_rate, years_to_maturity, discount_rate)\n",
    "print(f\"Задание 187: {price_187:.2f} руб.\")"
   ]
  },
  {
   "cell_type": "code",
   "execution_count": 14,
   "metadata": {},
   "outputs": [
    {
     "name": "stdout",
     "output_type": "stream",
     "text": [
      "Задание 188: 1135.67 руб.\n"
     ]
    }
   ],
   "source": [
    "# Задание 188 ТЗ 10-8\n",
    "nominal_price = 1000\n",
    "coupon_rate = 0.10\n",
    "years_to_maturity = 3\n",
    "discount_rate = 0.08\n",
    "price_188 = calculate_bond_price(nominal_price, coupon_rate, years_to_maturity, discount_rate)\n",
    "print(f\"Задание 188: {price_188:.2f} руб.\")"
   ]
  },
  {
   "cell_type": "code",
   "execution_count": 15,
   "metadata": {},
   "outputs": [
    {
     "name": "stdout",
     "output_type": "stream",
     "text": [
      "Задание 189: 1099.26 руб.\n"
     ]
    }
   ],
   "source": [
    "# Задание 189 ТЗ 10-9\n",
    "nominal_price = 1000\n",
    "coupon_rate = 0.09\n",
    "years_to_maturity = 2\n",
    "discount_rate = 0.08\n",
    "price_189 = calculate_bond_price(nominal_price, coupon_rate, years_to_maturity, discount_rate)\n",
    "print(f\"Задание 189: {price_189:.2f} руб.\")"
   ]
  },
  {
   "cell_type": "code",
   "execution_count": 16,
   "metadata": {},
   "outputs": [
    {
     "name": "stdout",
     "output_type": "stream",
     "text": [
      "Задание 190: 1080.00 руб.\n"
     ]
    }
   ],
   "source": [
    "# Задание 190 ТЗ 10-10\n",
    "nominal_price = 1000\n",
    "coupon_rate = 0.08\n",
    "years_to_maturity = 1\n",
    "discount_rate = 0.06\n",
    "price_190 = calculate_bond_price(nominal_price, coupon_rate, years_to_maturity, discount_rate)\n",
    "print(f\"Задание 190: {price_190:.2f} руб.\")"
   ]
  },
  {
   "cell_type": "code",
   "execution_count": 17,
   "metadata": {},
   "outputs": [
    {
     "name": "stdout",
     "output_type": "stream",
     "text": [
      "Задание 191: 1089.05 руб.\n"
     ]
    }
   ],
   "source": [
    "# Задание 191 ТЗ 10-11\n",
    "nominal_price = 1000\n",
    "coupon_rate = 0.07\n",
    "years_to_maturity = 2\n",
    "discount_rate = 0.05\n",
    "price_191 = calculate_bond_price(nominal_price, coupon_rate, years_to_maturity, discount_rate)\n",
    "print(f\"Задание 191: {price_191:.2f} руб.\")"
   ]
  },
  {
   "cell_type": "code",
   "execution_count": 18,
   "metadata": {},
   "outputs": [
    {
     "name": "stdout",
     "output_type": "stream",
     "text": [
      "Задание 192: 1080.00 руб.\n"
     ]
    }
   ],
   "source": [
    "# Задание 192 ТЗ 10-12\n",
    "nominal_price = 1000\n",
    "coupon_rate = 0.08\n",
    "years_to_maturity = 1\n",
    "discount_rate = 0.04\n",
    "price_192 = calculate_bond_price(nominal_price, coupon_rate, years_to_maturity, discount_rate)\n",
    "print(f\"Задание 192: {price_192:.2f} руб.\")"
   ]
  },
  {
   "cell_type": "code",
   "execution_count": 19,
   "metadata": {},
   "outputs": [
    {
     "name": "stdout",
     "output_type": "stream",
     "text": [
      "Задание 193: 1126.16 руб.\n"
     ]
    }
   ],
   "source": [
    "# Задание 193 ТЗ 10-13\n",
    "nominal_price = 1000\n",
    "coupon_rate = 0.09\n",
    "years_to_maturity = 3\n",
    "discount_rate = 0.07\n",
    "price_193 = calculate_bond_price(nominal_price, coupon_rate, years_to_maturity, discount_rate)\n",
    "print(f\"Задание 193: {price_193:.2f} руб.\")"
   ]
  },
  {
   "cell_type": "code",
   "execution_count": 20,
   "metadata": {},
   "outputs": [
    {
     "name": "stdout",
     "output_type": "stream",
     "text": [
      "Задание 194: 1100.00 руб.\n"
     ]
    }
   ],
   "source": [
    "# Задание 194 ТЗ 10-14\n",
    "nominal_price = 1000\n",
    "coupon_rate = 0.10\n",
    "years_to_maturity = 1\n",
    "discount_rate = 0.12\n",
    "price_194 = calculate_bond_price(nominal_price, coupon_rate, years_to_maturity, discount_rate)\n",
    "print(f\"Задание 194: {price_194:.2f} руб.\")"
   ]
  },
  {
   "cell_type": "code",
   "execution_count": 21,
   "metadata": {},
   "outputs": [
    {
     "name": "stdout",
     "output_type": "stream",
     "text": [
      "Задание 195: 1127.36 руб.\n"
     ]
    }
   ],
   "source": [
    "# Задание 195 ТЗ 10-15\n",
    "nominal_price = 1000\n",
    "coupon_rate = 0.11\n",
    "years_to_maturity = 3\n",
    "discount_rate = 0.10\n",
    "price_195 = calculate_bond_price(nominal_price, coupon_rate, years_to_maturity, discount_rate)\n",
    "print(f\"Задание 195: {price_195:.2f} руб.\")"
   ]
  },
  {
   "cell_type": "code",
   "execution_count": 22,
   "metadata": {},
   "outputs": [
    {
     "name": "stdout",
     "output_type": "stream",
     "text": [
      "Задание 196: 1144.44 руб.\n"
     ]
    }
   ],
   "source": [
    "# Задание 196 ТЗ 10-16\n",
    "nominal_price = 1000\n",
    "coupon_rate = 0.12\n",
    "years_to_maturity = 4\n",
    "discount_rate = 0.11\n",
    "price_196 = calculate_bond_price(nominal_price, coupon_rate, years_to_maturity, discount_rate)\n",
    "print(f\"Задание 196: {price_196:.2f} руб.\")"
   ]
  },
  {
   "cell_type": "code",
   "execution_count": 23,
   "metadata": {},
   "outputs": [
    {
     "name": "stdout",
     "output_type": "stream",
     "text": [
      "Задание 197: 1080.91 руб.\n"
     ]
    }
   ],
   "source": [
    "# Задание 197 ТЗ 10-17\n",
    "nominal_price = 1000\n",
    "coupon_rate = 0.09\n",
    "years_to_maturity = 2\n",
    "discount_rate = 0.10\n",
    "price_197 = calculate_bond_price(nominal_price, coupon_rate, years_to_maturity, discount_rate)\n",
    "print(f\"Задание 197: {price_197:.2f} руб.\")"
   ]
  },
  {
   "cell_type": "code",
   "execution_count": 24,
   "metadata": {},
   "outputs": [
    {
     "name": "stdout",
     "output_type": "stream",
     "text": [
      "Задание 198: 1089.35 руб.\n"
     ]
    }
   ],
   "source": [
    "# Задание 198 ТЗ 10-18\n",
    "nominal_price = 1000\n",
    "coupon_rate = 0.08\n",
    "years_to_maturity = 2\n",
    "discount_rate = 0.07\n",
    "price_198 = calculate_bond_price(nominal_price, coupon_rate, years_to_maturity, discount_rate)\n",
    "print(f\"Задание 198: {price_198:.2f} руб.\")"
   ]
  },
  {
   "cell_type": "code",
   "execution_count": 25,
   "metadata": {},
   "outputs": [
    {
     "name": "stdout",
     "output_type": "stream",
     "text": [
      "Задание 199: 1060.74 руб.\n"
     ]
    }
   ],
   "source": [
    "# Задание 199 ТЗ 10-19\n",
    "nominal_price = 1000\n",
    "coupon_rate = 0.07\n",
    "years_to_maturity = 2\n",
    "discount_rate = 0.08\n",
    "price_199 = calculate_bond_price(nominal_price, coupon_rate, years_to_maturity, discount_rate)\n",
    "print(f\"Задание 199: {price_199:.2f} руб.\")"
   ]
  },
  {
   "cell_type": "code",
   "execution_count": 26,
   "metadata": {},
   "outputs": [
    {
     "name": "stdout",
     "output_type": "stream",
     "text": [
      "Задание 200: 1069.52 руб.\n"
     ]
    }
   ],
   "source": [
    "# Задание 200 ТЗ 10-20\n",
    "nominal_price = 1000\n",
    "coupon_rate = 0.06\n",
    "years_to_maturity = 2\n",
    "discount_rate = 0.05\n",
    "price_200 = calculate_bond_price(nominal_price, coupon_rate, years_to_maturity, discount_rate)\n",
    "print(f\"Задание 200: {price_200:.2f} руб.\")"
   ]
  }
 ],
 "metadata": {
  "kernelspec": {
   "display_name": "base",
   "language": "python",
   "name": "python3"
  },
  "language_info": {
   "codemirror_mode": {
    "name": "ipython",
    "version": 3
   },
   "file_extension": ".py",
   "mimetype": "text/x-python",
   "name": "python",
   "nbconvert_exporter": "python",
   "pygments_lexer": "ipython3",
   "version": "3.11.5"
  }
 },
 "nbformat": 4,
 "nbformat_minor": 2
}
